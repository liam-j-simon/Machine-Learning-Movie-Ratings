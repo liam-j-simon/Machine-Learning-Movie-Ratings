{
 "cells": [
  {
   "cell_type": "code",
   "execution_count": 77,
   "metadata": {},
   "outputs": [],
   "source": [
    "#imports\n",
    "import pandas as pd\n",
    "import numpy as np\n",
    "import matplotlib.pyplot as plt\n",
    "from sklearn import preprocessing\n",
    "from sklearn import model_selection\n",
    "from sklearn.model_selection import train_test_split\n",
    "from sklearn.linear_model import LogisticRegression\n",
    "from sklearn.tree import DecisionTreeClassifier\n",
    "from sklearn.neighbors import KNeighborsClassifier\n",
    "from sklearn.discriminant_analysis import LinearDiscriminantAnalysis\n",
    "from sklearn.naive_bayes import GaussianNB\n",
    "from sklearn.svm import SVC\n",
    "from sklearn.ensemble import RandomForestClassifier\n",
    "from sklearn.ensemble import AdaBoostClassifier"
   ]
  },
  {
   "cell_type": "code",
   "execution_count": 23,
   "metadata": {},
   "outputs": [
    {
     "name": "stderr",
     "output_type": "stream",
     "text": [
      "/home/karn/.local/lib/python3.8/site-packages/IPython/core/interactiveshell.py:3062: DtypeWarning: Columns (5) have mixed types.Specify dtype option on import or set low_memory=False.\n",
      "  has_raised = await self.run_ast_nodes(code_ast.body, cell_name,\n"
     ]
    }
   ],
   "source": [
    "#get tab serperated files\n",
    "ratings = pd.read_csv('data/title.ratings.tsv',sep='\\t',lineterminator='\\n')\n",
    "titles = pd.read_csv('data/title.basics.tsv',sep='\\t',lineterminator='\\n')\n",
    "#principals = pd.read_csv('data/title.principals.tsv',sep='\\t',lineterminator='\\n')\n"
   ]
  },
  {
   "cell_type": "code",
   "execution_count": 24,
   "metadata": {},
   "outputs": [
    {
     "name": "stdout",
     "output_type": "stream",
     "text": [
      "            tconst  averageRating  numVotes\n",
      "0        tt0000001            5.6      1605\n",
      "1        tt0000002            6.0       197\n",
      "2        tt0000003            6.5      1278\n",
      "3        tt0000004            6.1       121\n",
      "4        tt0000005            6.1      2042\n",
      "...            ...            ...       ...\n",
      "1026234  tt9916576            6.0         9\n",
      "1026235  tt9916578            8.4        17\n",
      "1026236  tt9916720            5.6        49\n",
      "1026237  tt9916766            6.8        13\n",
      "1026238  tt9916778            7.2        21\n",
      "\n",
      "[1026239 rows x 3 columns]\n"
     ]
    }
   ],
   "source": [
    "print(ratings)"
   ]
  },
  {
   "cell_type": "code",
   "execution_count": 49,
   "metadata": {},
   "outputs": [],
   "source": [
    "frames = [ratings,titles]\n",
    "movies = pd.merge(ratings,titles,left_on='tconst',right_on='tconst', how='left')\n",
    "#join both frames"
   ]
  },
  {
   "cell_type": "code",
   "execution_count": 50,
   "metadata": {},
   "outputs": [],
   "source": [
    "#strip genres of quotes and tconst of 'tt'\n",
    "movies['genres'] = movies['genres'].map(lambda x: str(x).lstrip('\"').rstrip('aAbBcC'))\n",
    "movies['tconst'] = movies['tconst'].map(lambda x: str(x).lstrip('tt').rstrip('aAbBcC'))\n",
    "#split genres into multiple columns and merge\n",
    "temp = pd.concat([movies[['tconst']], movies['genres'].str.split(',',expand=True)],axis=1)\n",
    "movies = pd.merge(movies,temp,left_on='tconst',right_on='tconst', how='left')\n"
   ]
  },
  {
   "cell_type": "code",
   "execution_count": 51,
   "metadata": {},
   "outputs": [],
   "source": [
    "#drop unusable columns\n",
    "movies = movies.drop(['genres','primaryTitle','originalTitle','endYear','tconst'],axis=1)"
   ]
  },
  {
   "cell_type": "code",
   "execution_count": 52,
   "metadata": {},
   "outputs": [],
   "source": [
    "#replace null characters\n",
    "movies = movies.replace(to_replace = \"\\\\N\", value = np.nan)"
   ]
  },
  {
   "cell_type": "code",
   "execution_count": 53,
   "metadata": {},
   "outputs": [
    {
     "name": "stdout",
     "output_type": "stream",
     "text": [
      "Int64Index([      1,       3,       5,       8,      10,      16,      17,\n",
      "                 18,      19,      22,\n",
      "            ...\n",
      "            1026229, 1026230, 1026231, 1026232, 1026233, 1026234, 1026235,\n",
      "            1026236, 1026237, 1026238],\n",
      "           dtype='int64', length=939352)\n"
     ]
    }
   ],
   "source": [
    "#rename columns\n",
    "movies.rename(columns={0:'genre_1',1:'genre_2',2:'genre_3'},inplace=True)\n",
    "movies.to_csv('movies.csv',index=False)\n",
    "#remove movies with less than 500 votes\n",
    "rowstoremove = movies[movies['numVotes'] < 500].index\n",
    "print(rowstoremove)\n",
    "movies.drop(rowstoremove,inplace=True)\n"
   ]
  },
  {
   "cell_type": "code",
   "execution_count": 54,
   "metadata": {},
   "outputs": [],
   "source": [
    "#enc = preprocessing.OneHotEncoder(handle_unknown = 'ignore')\n",
    "#use label encoding for genres\n",
    "le = preprocessing.LabelEncoder()"
   ]
  },
  {
   "cell_type": "code",
   "execution_count": 55,
   "metadata": {},
   "outputs": [
    {
     "data": {
      "text/html": [
       "<div>\n",
       "<style scoped>\n",
       "    .dataframe tbody tr th:only-of-type {\n",
       "        vertical-align: middle;\n",
       "    }\n",
       "\n",
       "    .dataframe tbody tr th {\n",
       "        vertical-align: top;\n",
       "    }\n",
       "\n",
       "    .dataframe thead th {\n",
       "        text-align: right;\n",
       "    }\n",
       "</style>\n",
       "<table border=\"1\" class=\"dataframe\">\n",
       "  <thead>\n",
       "    <tr style=\"text-align: right;\">\n",
       "      <th></th>\n",
       "      <th>averageRating</th>\n",
       "      <th>numVotes</th>\n",
       "      <th>titleType</th>\n",
       "      <th>isAdult</th>\n",
       "      <th>startYear</th>\n",
       "      <th>runtimeMinutes</th>\n",
       "      <th>genre_1</th>\n",
       "      <th>genre_2</th>\n",
       "      <th>genre_3</th>\n",
       "    </tr>\n",
       "  </thead>\n",
       "  <tbody>\n",
       "    <tr>\n",
       "      <th>0</th>\n",
       "      <td>5.6</td>\n",
       "      <td>1605</td>\n",
       "      <td>short</td>\n",
       "      <td>0</td>\n",
       "      <td>1894</td>\n",
       "      <td>1</td>\n",
       "      <td>Documentary</td>\n",
       "      <td>Short</td>\n",
       "      <td>None</td>\n",
       "    </tr>\n",
       "    <tr>\n",
       "      <th>2</th>\n",
       "      <td>6.5</td>\n",
       "      <td>1278</td>\n",
       "      <td>short</td>\n",
       "      <td>0</td>\n",
       "      <td>1892</td>\n",
       "      <td>4</td>\n",
       "      <td>Animation</td>\n",
       "      <td>Comedy</td>\n",
       "      <td>Romance</td>\n",
       "    </tr>\n",
       "    <tr>\n",
       "      <th>4</th>\n",
       "      <td>6.1</td>\n",
       "      <td>2042</td>\n",
       "      <td>short</td>\n",
       "      <td>0</td>\n",
       "      <td>1893</td>\n",
       "      <td>1</td>\n",
       "      <td>Comedy</td>\n",
       "      <td>Short</td>\n",
       "      <td>None</td>\n",
       "    </tr>\n",
       "    <tr>\n",
       "      <th>6</th>\n",
       "      <td>5.4</td>\n",
       "      <td>638</td>\n",
       "      <td>short</td>\n",
       "      <td>0</td>\n",
       "      <td>1894</td>\n",
       "      <td>1</td>\n",
       "      <td>Short</td>\n",
       "      <td>Sport</td>\n",
       "      <td>None</td>\n",
       "    </tr>\n",
       "    <tr>\n",
       "      <th>7</th>\n",
       "      <td>5.4</td>\n",
       "      <td>1752</td>\n",
       "      <td>short</td>\n",
       "      <td>0</td>\n",
       "      <td>1894</td>\n",
       "      <td>1</td>\n",
       "      <td>Documentary</td>\n",
       "      <td>Short</td>\n",
       "      <td>None</td>\n",
       "    </tr>\n",
       "    <tr>\n",
       "      <th>...</th>\n",
       "      <td>...</td>\n",
       "      <td>...</td>\n",
       "      <td>...</td>\n",
       "      <td>...</td>\n",
       "      <td>...</td>\n",
       "      <td>...</td>\n",
       "      <td>...</td>\n",
       "      <td>...</td>\n",
       "      <td>...</td>\n",
       "    </tr>\n",
       "    <tr>\n",
       "      <th>1026052</th>\n",
       "      <td>7.8</td>\n",
       "      <td>514</td>\n",
       "      <td>movie</td>\n",
       "      <td>0</td>\n",
       "      <td>2020</td>\n",
       "      <td>103</td>\n",
       "      <td>Comedy</td>\n",
       "      <td>Dram</td>\n",
       "      <td>None</td>\n",
       "    </tr>\n",
       "    <tr>\n",
       "      <th>1026062</th>\n",
       "      <td>8.3</td>\n",
       "      <td>538</td>\n",
       "      <td>tvEpisode</td>\n",
       "      <td>0</td>\n",
       "      <td>2019</td>\n",
       "      <td>23</td>\n",
       "      <td>Action</td>\n",
       "      <td>Animation</td>\n",
       "      <td>Fantasy</td>\n",
       "    </tr>\n",
       "    <tr>\n",
       "      <th>1026063</th>\n",
       "      <td>8.6</td>\n",
       "      <td>524</td>\n",
       "      <td>tvEpisode</td>\n",
       "      <td>0</td>\n",
       "      <td>2019</td>\n",
       "      <td>23</td>\n",
       "      <td>Action</td>\n",
       "      <td>Animation</td>\n",
       "      <td>Fantasy</td>\n",
       "    </tr>\n",
       "    <tr>\n",
       "      <th>1026064</th>\n",
       "      <td>9.1</td>\n",
       "      <td>554</td>\n",
       "      <td>tvEpisode</td>\n",
       "      <td>0</td>\n",
       "      <td>2019</td>\n",
       "      <td>NaN</td>\n",
       "      <td>Action</td>\n",
       "      <td>Animation</td>\n",
       "      <td>Fantasy</td>\n",
       "    </tr>\n",
       "    <tr>\n",
       "      <th>1026067</th>\n",
       "      <td>9.0</td>\n",
       "      <td>520</td>\n",
       "      <td>tvEpisode</td>\n",
       "      <td>0</td>\n",
       "      <td>2019</td>\n",
       "      <td>NaN</td>\n",
       "      <td>Action</td>\n",
       "      <td>Animation</td>\n",
       "      <td>Fantasy</td>\n",
       "    </tr>\n",
       "  </tbody>\n",
       "</table>\n",
       "<p>86887 rows × 9 columns</p>\n",
       "</div>"
      ],
      "text/plain": [
       "         averageRating  numVotes  titleType  isAdult startYear runtimeMinutes  \\\n",
       "0                  5.6      1605      short        0      1894              1   \n",
       "2                  6.5      1278      short        0      1892              4   \n",
       "4                  6.1      2042      short        0      1893              1   \n",
       "6                  5.4       638      short        0      1894              1   \n",
       "7                  5.4      1752      short        0      1894              1   \n",
       "...                ...       ...        ...      ...       ...            ...   \n",
       "1026052            7.8       514      movie        0      2020            103   \n",
       "1026062            8.3       538  tvEpisode        0      2019             23   \n",
       "1026063            8.6       524  tvEpisode        0      2019             23   \n",
       "1026064            9.1       554  tvEpisode        0      2019            NaN   \n",
       "1026067            9.0       520  tvEpisode        0      2019            NaN   \n",
       "\n",
       "             genre_1    genre_2  genre_3  \n",
       "0        Documentary      Short     None  \n",
       "2          Animation     Comedy  Romance  \n",
       "4             Comedy      Short     None  \n",
       "6              Short      Sport     None  \n",
       "7        Documentary      Short     None  \n",
       "...              ...        ...      ...  \n",
       "1026052       Comedy       Dram     None  \n",
       "1026062       Action  Animation  Fantasy  \n",
       "1026063       Action  Animation  Fantasy  \n",
       "1026064       Action  Animation  Fantasy  \n",
       "1026067       Action  Animation  Fantasy  \n",
       "\n",
       "[86887 rows x 9 columns]"
      ]
     },
     "execution_count": 55,
     "metadata": {},
     "output_type": "execute_result"
    }
   ],
   "source": [
    "movies"
   ]
  },
  {
   "cell_type": "code",
   "execution_count": 56,
   "metadata": {},
   "outputs": [],
   "source": [
    "#split into genres\n",
    "grouped = movies.groupby(by='titleType')\n",
    "shorts = grouped.get_group(\"short\")\n",
    "movies = grouped.get_group(\"movie\")\n",
    "series = grouped.get_group(\"tvSeries\")\n",
    "video = grouped.get_group(\"video\")"
   ]
  },
  {
   "cell_type": "code",
   "execution_count": 71,
   "metadata": {},
   "outputs": [],
   "source": [
    "#split into set and target\n",
    "X = movies.drop(['averageRating','titleType'],axis=1)\n",
    "Y = movies['averageRating']\n",
    "Y = Y.replace(np.nan,0)"
   ]
  },
  {
   "cell_type": "code",
   "execution_count": 72,
   "metadata": {},
   "outputs": [
    {
     "name": "stdout",
     "output_type": "stream",
     "text": [
      "364        6.1\n",
      "943        7.0\n",
      "1038       6.8\n",
      "1130       7.0\n",
      "1159       7.1\n",
      "          ... \n",
      "1025691    6.2\n",
      "1025759    5.1\n",
      "1025833    8.5\n",
      "1025918    8.8\n",
      "1026052    7.8\n",
      "Name: averageRating, Length: 44209, dtype: float64\n",
      "numVotes          int64\n",
      "isAdult           int64\n",
      "startYear         int64\n",
      "runtimeMinutes    int64\n",
      "genre_1           int64\n",
      "genre_2           int64\n",
      "genre_3           int64\n",
      "dtype: object\n",
      "category\n",
      "364        4\n",
      "943        4\n",
      "1038       4\n",
      "1130       4\n",
      "1159       4\n",
      "          ..\n",
      "1025691    4\n",
      "1025759    3\n",
      "1025833    5\n",
      "1025918    5\n",
      "1026052    4\n",
      "Name: averageRating, Length: 44209, dtype: category\n",
      "Categories (5, int64): [1 < 2 < 3 < 4 < 5]\n"
     ]
    }
   ],
   "source": [
    "#add mean to nan values\n",
    "year_mean = pd.to_numeric(X['startYear'],errors='coerce').mean()\n",
    "runtime_mean = pd.to_numeric(X['runtimeMinutes'],errors='coerce').mean()\n",
    "X['startYear'] = X['startYear'].replace(np.nan,year_mean)\n",
    "X['runtimeMinutes'] = X['runtimeMinutes'].replace(np.nan,runtime_mean)\n",
    "X['startYear'] = pd.to_numeric(X['startYear'])\n",
    "#replace null genres with none\n",
    "X['genre_1'] = X['genre_1'].replace(np.nan,\"None\")\n",
    "X['genre_2'] = X['genre_2'].replace(np.nan,\"None\")\n",
    "X['genre_3'] = X['genre_3'].replace(np.nan,\"None\")\n",
    "#\n",
    "X['runtimeMinutes'].to_csv('isAdult.csv',index=False)\n",
    "#convert to int\n",
    "X['startYear'] = X['startYear'].apply(lambda x: int(x))\n",
    "X['runtimeMinutes'] = X['runtimeMinutes'].apply(lambda x: int(x))\n",
    "#convert to int\n",
    "Y = Y.apply(lambda x: int(x))\n",
    "#bin the data for very bad to very good sections\n",
    "Y = pd.cut(Y,bins=5,labels=[1,2,3,4,5])\n",
    "X = X.apply(le.fit_transform)\n",
    "print(X.dtypes)\n",
    "print(Y.dtypes)"
   ]
  },
  {
   "cell_type": "code",
   "execution_count": 73,
   "metadata": {},
   "outputs": [],
   "source": [
    "#split data\n",
    "X_train,X_test,Y_train,Y_test = train_test_split(X,Y,test_size=0.2,random_state=42)"
   ]
  },
  {
   "cell_type": "code",
   "execution_count": 88,
   "metadata": {},
   "outputs": [],
   "source": [
    "#all models to test\n",
    "models = []\n",
    "#models.append(('LR', LogisticRegression(max_iter=1000)))\n",
    "models.append(('LDA', LinearDiscriminantAnalysis()))\n",
    "models.append(('AB', AdaBoostClassifier(n_estimators=1000)))\n",
    "models.append(('RF', RandomForestClassifier(n_estimators=1000, max_depth=None,min_samples_split=2,n_jobs=4)))\n",
    "models.append(('KNN', KNeighborsClassifier()))\n",
    "models.append(('CART', DecisionTreeClassifier()))\n",
    "models.append(('NB', GaussianNB()))\n",
    "#models.append(('SVM', SVC()))\n",
    "# evaluate each model in turn\n",
    "results = []\n",
    "names = []\n",
    "scoring = 'accuracy'"
   ]
  },
  {
   "cell_type": "code",
   "execution_count": 89,
   "metadata": {},
   "outputs": [
    {
     "name": "stdout",
     "output_type": "stream",
     "text": [
      "LDA: 0.620918 (0.005570)\n",
      "AB: 0.643538 (0.007518)\n",
      "RF: 0.657082 (0.006605)\n",
      "KNN: 0.569684 (0.005491)\n",
      "CART: 0.552041 (0.008081)\n",
      "NB: 0.628100 (0.006081)\n"
     ]
    }
   ],
   "source": [
    "#loop through and test\n",
    "for name, model in models:\n",
    "\tkfold = model_selection.KFold(n_splits=10)\n",
    "\tcv_results = model_selection.cross_val_score(model, X_train, Y_train, cv=kfold, scoring=scoring)\n",
    "\tresults.append(cv_results)\n",
    "\tnames.append(name)\n",
    "\tmsg = \"%s: %f (%f)\" % (name, cv_results.mean(), cv_results.std())\n",
    "\tprint(msg)"
   ]
  },
  {
   "cell_type": "code",
   "execution_count": 90,
   "metadata": {},
   "outputs": [
    {
     "data": {
      "image/png": "[encoded data removed]",
      "text/plain": [
       "<Figure size 432x288 with 1 Axes>"
      ]
     },
     "metadata": {
      "needs_background": "light"
     },
     "output_type": "display_data"
    }
   ],
   "source": [
    "#plot all figures\n",
    "fig = plt.figure()\n",
    "fig.suptitle('Algorithm Comparison')\n",
    "ax = fig.add_subplot(111)\n",
    "plt.boxplot(results)\n",
    "ax.set_xticklabels(names)\n",
    "plt.show()"
   ]
  },
  {
   "cell_type": "code",
   "execution_count": null,
   "metadata": {},
   "outputs": [],
   "source": []
  }
 ],
 "metadata": {
  "kernelspec": {
   "display_name": "Python 3",
   "language": "python",
   "name": "python3"
  },
  "language_info": {
   "codemirror_mode": {
    "name": "ipython",
    "version": 3
   },
   "file_extension": ".py",
   "mimetype": "text/x-python",
   "name": "python",
   "nbconvert_exporter": "python",
   "pygments_lexer": "ipython3",
   "version": "3.8.2"
  }
 },
 "nbformat": 4,
 "nbformat_minor": 4
}
